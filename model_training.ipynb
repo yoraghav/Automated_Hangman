{
 "cells": [
  {
   "cell_type": "code",
   "execution_count": null,
   "id": "0306df7d",
   "metadata": {},
   "outputs": [],
   "source": [
    "import numpy as np\n",
    "import pandas as pd\n",
    "import matplotlib.pyplot as plt\n",
    "import pickle\n",
    "from catboost import CatBoostClassifier\n",
    "from sklearn.model_selection import train_test_split\n",
    "from sklearn.metrics import confusion_matrix, classification_report,balanced_accuracy_score"
   ]
  },
  {
   "cell_type": "code",
   "execution_count": null,
   "id": "49949e93",
   "metadata": {},
   "outputs": [],
   "source": [
    "dataset = pd.read_parquet(\"fd.parquet\")"
   ]
  },
  {
   "cell_type": "code",
   "execution_count": null,
   "id": "a2123540",
   "metadata": {},
   "outputs": [],
   "source": [
    "alpha = \"abcdefghijklmnopqrstuvwxyz\""
   ]
  },
  {
   "cell_type": "code",
   "execution_count": null,
   "id": "d42ed005",
   "metadata": {},
   "outputs": [],
   "source": [
    "class MultiLabelCatBoostClassifier:\n",
    "    def __init__(self, num_classes=26, catboost_params=None):\n",
    "        # Initialize 26 CatBoost classifiers, one for each label\n",
    "        self.classifiers = [CatBoostClassifier(iterations=1500) for _ in range(num_classes)]\n",
    "        \n",
    "    def fit(self, X, y):\n",
    "        # X is the feature matrix, y is a binary matrix indicating label presence\n",
    "        for i in range(len(self.classifiers)):\n",
    "            # Train each classifier on the corresponding label\n",
    "            # dd = y[y[alpha[i]] == 0].sample(len(y) - 2*len(y[y[alpha[i]] == 1])).index\n",
    "            dd = []\n",
    "            self.classifiers[i].fit(X.drop(dd), y[alpha[i]].drop(dd), verbose=100)\n",
    "    \n",
    "    def predict(self, X):\n",
    "        # Predict probabilities for each label\n",
    "        predictions = np.zeros((len(X), len(self.classifiers)))\n",
    "        for i, clf in enumerate(self.classifiers):\n",
    "            predictions[:, i] = clf.predict_proba(X)[:, 1]  # Probability of class '1'\n",
    "        return predictions\n",
    "    \n",
    "    def save(self, filename):\n",
    "        # Save the model to a pickle file\n",
    "        with open(filename, 'wb') as file:\n",
    "            pickle.dump(self, file)\n",
    "    \n",
    "    @classmethod\n",
    "    def load(cls, filename):\n",
    "        # Load the model from a pickle file\n",
    "        with open(filename, 'rb') as file:\n",
    "            model = pickle.load(file)\n",
    "        return model"
   ]
  },
  {
   "cell_type": "code",
   "execution_count": null,
   "id": "414c418e",
   "metadata": {
    "scrolled": true
   },
   "outputs": [],
   "source": [
    "model = MultiLabelCatBoostClassifier()\n",
    "\n",
    "#train test split\n",
    "from sklearn.model_selection import train_test_split\n",
    "X_train, X_test, y_train, y_test = train_test_split(dataset[[str(x) for x in range(80)]], dataset[[x for x in \"abcdefghijklmnopqrstuvwxyz\"]], test_size=0.01, random_state=42)\n",
    "\n",
    "model.fit(X_train,y_train)"
   ]
  },
  {
   "cell_type": "code",
   "execution_count": null,
   "id": "56b5f8f1",
   "metadata": {},
   "outputs": [],
   "source": [
    "#calculate accuracy between individual columns\n",
    "\n",
    "def accuracy(y_pred, y_test):\n",
    "    cols = y_test.columns\n",
    "    x = []\n",
    "    for i in range(len(cols)):\n",
    "        print(cols[i],\" : \",confusion_matrix(np.round(y_pred[:,i]),y_test[cols[i]]))\n",
    "        print(cols[i],\" : \",balanced_accuracy_score(np.round(y_pred[:,i]),y_test[cols[i]]))\n",
    "        x.append(balanced_accuracy_score(np.round(y_pred[:,i]),y_test[cols[i]]))\n",
    "    return np.mean(x)\n",
    "\n",
    "accuracy(model.predict(X_test),y_test)"
   ]
  },
  {
   "cell_type": "code",
   "execution_count": null,
   "id": "a8ae1759",
   "metadata": {},
   "outputs": [],
   "source": [
    "model.save('models_trained/multilabel_catboost_model.pkl')"
   ]
  }
 ],
 "metadata": {
  "kernelspec": {
   "display_name": "Python 3 (ipykernel)",
   "language": "python",
   "name": "python3"
  },
  "language_info": {
   "codemirror_mode": {
    "name": "ipython",
    "version": 3
   },
   "file_extension": ".py",
   "mimetype": "text/x-python",
   "name": "python",
   "nbconvert_exporter": "python",
   "pygments_lexer": "ipython3",
   "version": "3.10.11"
  }
 },
 "nbformat": 4,
 "nbformat_minor": 5
}
