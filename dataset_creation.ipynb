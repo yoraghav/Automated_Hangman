{
 "cells": [
  {
   "cell_type": "code",
   "execution_count": 1,
   "metadata": {},
   "outputs": [],
   "source": [
    "import numpy as np\n",
    "import pandas as pd\n",
    "import matplotlib.pyplot as plt"
   ]
  },
  {
   "cell_type": "code",
   "execution_count": 22,
   "metadata": {},
   "outputs": [],
   "source": [
    "def build_dictionary(dictionary_file_location):\n",
    "    text_file = open(dictionary_file_location,\"r\")\n",
    "    full_dictionary = text_file.read().splitlines()\n",
    "    text_file.close()\n",
    "    return full_dictionary"
   ]
  },
  {
   "cell_type": "code",
   "execution_count": 23,
   "metadata": {},
   "outputs": [],
   "source": [
    "dictionary = build_dictionary(\"words_250000_train.txt\")"
   ]
  },
  {
   "cell_type": "code",
   "execution_count": 24,
   "metadata": {},
   "outputs": [
    {
     "name": "stdout",
     "output_type": "stream",
     "text": [
      "29\n"
     ]
    }
   ],
   "source": [
    "#find longest word in dictionary\n",
    "max_len = 0\n",
    "w = \"\"\n",
    "for word in dictionary: \n",
    "    if len(word) > max_len:\n",
    "        max_len = len(word)\n",
    "        w = word\n",
    "print(max_len)"
   ]
  },
  {
   "cell_type": "code",
   "execution_count": 25,
   "metadata": {},
   "outputs": [],
   "source": [
    "sets = [set(x) for x in dictionary]"
   ]
  },
  {
   "cell_type": "code",
   "execution_count": 26,
   "metadata": {},
   "outputs": [],
   "source": [
    "#create unique combinations of letters from a set\n",
    "\n",
    "import itertools\n",
    "\n",
    "def get_combinations(letters):\n",
    "    combinations = []\n",
    "    for i in range(1,len(letters)+1):\n",
    "        combinations += list(itertools.combinations(letters, i))\n",
    "    return combinations"
   ]
  },
  {
   "cell_type": "code",
   "execution_count": 27,
   "metadata": {},
   "outputs": [],
   "source": [
    "nos = [len(x) for x in sets]"
   ]
  },
  {
   "cell_type": "code",
   "execution_count": 28,
   "metadata": {},
   "outputs": [],
   "source": [
    "#get frequency of each length\n",
    "from collections import Counter\n",
    "freq = Counter(nos)"
   ]
  },
  {
   "cell_type": "code",
   "execution_count": 29,
   "metadata": {},
   "outputs": [],
   "source": [
    "summ = 0\n",
    "ss = \"abcdefghijklmnopqrstuvwxyz\"\n",
    "for i in freq:\n",
    "    summ += freq[i]*len(get_combinations(ss[:i]))"
   ]
  },
  {
   "cell_type": "code",
   "execution_count": 30,
   "metadata": {},
   "outputs": [
    {
     "data": {
      "text/plain": [
       "100725482"
      ]
     },
     "execution_count": 30,
     "metadata": {},
     "output_type": "execute_result"
    }
   ],
   "source": [
    "summ"
   ]
  },
  {
   "cell_type": "code",
   "execution_count": 32,
   "metadata": {},
   "outputs": [],
   "source": [
    "value = {\"a\":1,\"b\":2,\"c\":3,\"d\":4,\"e\":5,\"f\":6,\"g\":7,\n",
    "         \"h\":8,\"i\":9,\"j\":10,\"k\":11,\"l\":12,\"m\":13,\"n\":14,\n",
    "         \"o\":15,\"p\":16,\"q\":17,\"r\":18,\"s\":19,\"t\":20,\"u\":21,\n",
    "         \"v\":22,\"w\":23,\"x\":24,\"y\":25,\"z\":26}"
   ]
  },
  {
   "cell_type": "code",
   "execution_count": 33,
   "metadata": {},
   "outputs": [],
   "source": [
    "def dataframemaker(dicc):    \n",
    "    dfs = []\n",
    "\n",
    "    for word in dicc:\n",
    "        for comb in get_combinations(\"\".join(set(word))):\n",
    "            #create an array of -1s of length 80\n",
    "            num = np.full(80,-1)\n",
    "            guess = np.full(26,0)\n",
    "            #fill the array with the index of the letters in the word\n",
    "            k=len(word)\n",
    "            for i in range(k):\n",
    "                if(word[i] in comb):\n",
    "                    num[i] = value[word[i]]\n",
    "                    num[80-k+i] = value[word[i]]\n",
    "                else:\n",
    "                    num[i] = 0\n",
    "                    num[80-k+i] = 0\n",
    "                    guess[value[word[i]]-1] = 1\n",
    "            dfs.append(num.tolist()+guess.tolist())\n",
    "    \n",
    "    return pd.DataFrame(dfs,dtype=np.int8)\n",
    "        "
   ]
  },
  {
   "cell_type": "code",
   "execution_count": null,
   "metadata": {},
   "outputs": [
    {
     "name": "stdout",
     "output_type": "stream",
     "text": [
      "1 \n",
      "\n",
      "1 \n",
      "\n",
      "1 \n",
      "\n",
      "1 \n",
      "\n"
     ]
    }
   ],
   "source": [
    "import multiprocessing as mp\n",
    "\n",
    "dataset = []\n",
    "\n",
    "for dicc in np.array_split(dictionary,10):\n",
    "    \n",
    "    print(\"1 \\n\")\n",
    "\n",
    "    manager = mp.Manager()\n",
    "    pool = mp.Pool()\n",
    "\n",
    "    dictsplit = np.array_split(dicc,128)\n",
    "\n",
    "    datas = pool.map(dataframemaker,dictsplit)\n",
    "    pool.close()\n",
    "    pool.join()\n",
    "\n",
    "    finaldata = pd.concat(datas).reset_index(drop=True)\n",
    "\n",
    "    del datas\n",
    "\n",
    "    finaldata.columns = [str(x) for x in range(80)]+[x for x in \"abcdefghijklmnopqrstuvwxyz\"]\n",
    "    dataset.append(finaldata)\n",
    "    del finaldata"
   ]
  },
  {
   "cell_type": "code",
   "execution_count": null,
   "metadata": {},
   "outputs": [],
   "source": [
    "dataset = pd.concat(dataset).reset_index(drop=True)"
   ]
  },
  {
   "cell_type": "code",
   "execution_count": null,
   "metadata": {},
   "outputs": [],
   "source": [
    "dataset.to_parquet(\"fd.parquet\")"
   ]
  }
 ],
 "metadata": {
  "kernelspec": {
   "display_name": "Python 3 (ipykernel)",
   "language": "python",
   "name": "python3"
  },
  "language_info": {
   "codemirror_mode": {
    "name": "ipython",
    "version": 3
   },
   "file_extension": ".py",
   "mimetype": "text/x-python",
   "name": "python",
   "nbconvert_exporter": "python",
   "pygments_lexer": "ipython3",
   "version": "3.10.11"
  }
 },
 "nbformat": 4,
 "nbformat_minor": 2
}
